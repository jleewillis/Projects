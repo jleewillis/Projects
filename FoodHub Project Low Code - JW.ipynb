{
 "cells": [
  {
   "cell_type": "markdown",
   "metadata": {
    "id": "HnAlaR5Y2rc8"
   },
   "source": [
    "# Project Python Foundations: FoodHub Data Analysis\n",
    "\n",
    "**Marks: 60 points**"
   ]
  },
  {
   "cell_type": "markdown",
   "metadata": {
    "id": "N0e9ilAx2rc_"
   },
   "source": [
    "### Context\n",
    "\n",
    "The number of restaurants in New York is increasing day by day. Lots of students and busy professionals rely on those restaurants due to their hectic lifestyles. Online food delivery service is a great option for them. It provides them with good food from their favorite restaurants. A food aggregator company FoodHub offers access to multiple restaurants through a single smartphone app.\n",
    "\n",
    "The app allows the restaurants to receive a direct online order from a customer. The app assigns a delivery person from the company to pick up the order after it is confirmed by the restaurant. The delivery person then uses the map to reach the restaurant and waits for the food package. Once the food package is handed over to the delivery person, he/she confirms the pick-up in the app and travels to the customer's location to deliver the food. The delivery person confirms the drop-off in the app after delivering the food package to the customer. The customer can rate the order in the app. The food aggregator earns money by collecting a fixed margin of the delivery order from the restaurants.\n",
    "\n",
    "### Objective\n",
    "\n",
    "The food aggregator company has stored the data of the different orders made by the registered customers in their online portal. They want to analyze the data to get a fair idea about the demand of different restaurants which will help them in enhancing their customer experience. Suppose you are a Data Scientist at Foodhub and the Data Science team has shared some of the key questions that need to be answered. Perform the data analysis to find answers to these questions that will help the company to improve the business.\n",
    "\n",
    "### Data Description\n",
    "\n",
    "The data contains the different data related to a food order. The detailed data dictionary is given below.\n",
    "\n",
    "### Data Dictionary\n",
    "\n",
    "* order_id: Unique ID of the order\n",
    "* customer_id: ID of the customer who ordered the food\n",
    "* restaurant_name: Name of the restaurant\n",
    "* cuisine_type: Cuisine ordered by the customer\n",
    "* cost_of_the_order: Cost of the order\n",
    "* day_of_the_week: Indicates whether the order is placed on a weekday or weekend (The weekday is from Monday to Friday and the weekend is Saturday and Sunday)\n",
    "* rating: Rating given by the customer out of 5\n",
    "* food_preparation_time: Time (in minutes) taken by the restaurant to prepare the food. This is calculated by taking the difference between the timestamps of the restaurant's order confirmation and the delivery person's pick-up confirmation.\n",
    "* delivery_time: Time (in minutes) taken by the delivery person to deliver the food package. This is calculated by taking the difference between the timestamps of the delivery person's pick-up confirmation and drop-off information"
   ]
  },
  {
   "cell_type": "markdown",
   "metadata": {
    "id": "Ruz2EiJ32rdB"
   },
   "source": [
    "### **Please read the instructions carefully before starting the project.** \n",
    "This is a commented Jupyter IPython Notebook file in which all the instructions and tasks to be performed are mentioned. Read along carefully to complete the project.\n",
    "* Blanks '_______' are provided in the notebook that \n",
    "needs to be filled with an appropriate code to get the correct result. Please replace the blank with the right code snippet. With every '_______' blank, there is a comment that briefly describes what needs to be filled in the blank space. \n",
    "* Identify the task to be performed correctly, and only then proceed to write the required code.\n",
    "* Fill the code wherever asked by the commented lines like \"# write your code here\" or \"# complete the code\". Running incomplete code may throw an error.\n",
    "* Please run the codes in a sequential manner from the beginning to avoid any unnecessary errors.\n",
    "* You can the results/observations derived from the analysis here and use them to create your final presentation.\n"
   ]
  },
  {
   "cell_type": "markdown",
   "metadata": {
    "id": "enOodKS42rdB"
   },
   "source": [
    "### Let us start by importing the required libraries"
   ]
  },
  {
   "cell_type": "code",
   "execution_count": 103,
   "metadata": {
    "id": "p7FpluTK2rdC"
   },
   "outputs": [],
   "source": [
    "# Import libraries for data manipulation\n",
    "import numpy as np\n",
    "import pandas as pd\n",
    "\n",
    "# Import libraries for data visualization\n",
    "import matplotlib.pyplot as plt\n",
    "import seaborn as sns\n",
    "\n",
    "## order_id: Unique ID of the order\n",
    "## customer_id: ID of the customer who ordered the food\n",
    "## restaurant_name: Name of the restaurant\n",
    "## cuisine_type: Cuisine ordered by the customer\n",
    "## cost_of_the_order: Cost of the order\n",
    "## day_of_the_week: Indicates whether the order is placed on a weekday or weekend (The weekday is from Monday to Friday and the weekend is Saturday and Sunday)\n",
    "## rating: Rating given by the customer out of 5\n",
    "## food_preparation_time: Time (in minutes) taken by the restaurant to prepare the food. This is calculated by taking the difference between the timestamps of the restaurant's order confirmation and the delivery person's pick-up confirmation.\n",
    "## delivery_time: Time (in minutes) taken by the delivery person to deliver the food package. This is calculated by taking the difference between the timestamps of the delivery person's pick-up confirmation and drop-off information"
   ]
  },
  {
   "cell_type": "markdown",
   "metadata": {
    "id": "LHxIYWXP2rdD"
   },
   "source": [
    "### Understanding the structure of the data"
   ]
  },
  {
   "cell_type": "code",
   "execution_count": 4,
   "metadata": {
    "id": "nwlzFr-_2rdD",
    "scrolled": true
   },
   "outputs": [
    {
     "data": {
      "text/html": [
       "<div>\n",
       "<style scoped>\n",
       "    .dataframe tbody tr th:only-of-type {\n",
       "        vertical-align: middle;\n",
       "    }\n",
       "\n",
       "    .dataframe tbody tr th {\n",
       "        vertical-align: top;\n",
       "    }\n",
       "\n",
       "    .dataframe thead th {\n",
       "        text-align: right;\n",
       "    }\n",
       "</style>\n",
       "<table border=\"1\" class=\"dataframe\">\n",
       "  <thead>\n",
       "    <tr style=\"text-align: right;\">\n",
       "      <th></th>\n",
       "      <th>order_id</th>\n",
       "      <th>customer_id</th>\n",
       "      <th>restaurant_name</th>\n",
       "      <th>cuisine_type</th>\n",
       "      <th>cost_of_the_order</th>\n",
       "      <th>day_of_the_week</th>\n",
       "      <th>rating</th>\n",
       "      <th>food_preparation_time</th>\n",
       "      <th>delivery_time</th>\n",
       "    </tr>\n",
       "  </thead>\n",
       "  <tbody>\n",
       "    <tr>\n",
       "      <th>0</th>\n",
       "      <td>1477147</td>\n",
       "      <td>337525</td>\n",
       "      <td>Hangawi</td>\n",
       "      <td>Korean</td>\n",
       "      <td>30.75</td>\n",
       "      <td>Weekend</td>\n",
       "      <td>Not given</td>\n",
       "      <td>25</td>\n",
       "      <td>20</td>\n",
       "    </tr>\n",
       "    <tr>\n",
       "      <th>1</th>\n",
       "      <td>1477685</td>\n",
       "      <td>358141</td>\n",
       "      <td>Blue Ribbon Sushi Izakaya</td>\n",
       "      <td>Japanese</td>\n",
       "      <td>12.08</td>\n",
       "      <td>Weekend</td>\n",
       "      <td>Not given</td>\n",
       "      <td>25</td>\n",
       "      <td>23</td>\n",
       "    </tr>\n",
       "    <tr>\n",
       "      <th>2</th>\n",
       "      <td>1477070</td>\n",
       "      <td>66393</td>\n",
       "      <td>Cafe Habana</td>\n",
       "      <td>Mexican</td>\n",
       "      <td>12.23</td>\n",
       "      <td>Weekday</td>\n",
       "      <td>5</td>\n",
       "      <td>23</td>\n",
       "      <td>28</td>\n",
       "    </tr>\n",
       "    <tr>\n",
       "      <th>3</th>\n",
       "      <td>1477334</td>\n",
       "      <td>106968</td>\n",
       "      <td>Blue Ribbon Fried Chicken</td>\n",
       "      <td>American</td>\n",
       "      <td>29.20</td>\n",
       "      <td>Weekend</td>\n",
       "      <td>3</td>\n",
       "      <td>25</td>\n",
       "      <td>15</td>\n",
       "    </tr>\n",
       "    <tr>\n",
       "      <th>4</th>\n",
       "      <td>1478249</td>\n",
       "      <td>76942</td>\n",
       "      <td>Dirty Bird to Go</td>\n",
       "      <td>American</td>\n",
       "      <td>11.59</td>\n",
       "      <td>Weekday</td>\n",
       "      <td>4</td>\n",
       "      <td>25</td>\n",
       "      <td>24</td>\n",
       "    </tr>\n",
       "  </tbody>\n",
       "</table>\n",
       "</div>"
      ],
      "text/plain": [
       "   order_id  customer_id            restaurant_name cuisine_type  \\\n",
       "0   1477147       337525                    Hangawi       Korean   \n",
       "1   1477685       358141  Blue Ribbon Sushi Izakaya     Japanese   \n",
       "2   1477070        66393                Cafe Habana      Mexican   \n",
       "3   1477334       106968  Blue Ribbon Fried Chicken     American   \n",
       "4   1478249        76942           Dirty Bird to Go     American   \n",
       "\n",
       "   cost_of_the_order day_of_the_week     rating  food_preparation_time  \\\n",
       "0              30.75         Weekend  Not given                     25   \n",
       "1              12.08         Weekend  Not given                     25   \n",
       "2              12.23         Weekday          5                     23   \n",
       "3              29.20         Weekend          3                     25   \n",
       "4              11.59         Weekday          4                     25   \n",
       "\n",
       "   delivery_time  \n",
       "0             20  \n",
       "1             23  \n",
       "2             28  \n",
       "3             15  \n",
       "4             24  "
      ]
     },
     "execution_count": 4,
     "metadata": {},
     "output_type": "execute_result"
    }
   ],
   "source": [
    "# Read the data\n",
    "df = pd.read_csv('foodhub_order.csv') ## Fill the blank to read the data\n",
    "# Returns the first 5 rows\n",
    "df.head() "
   ]
  },
  {
   "cell_type": "markdown",
   "metadata": {
    "id": "AeR7rXZF2rdE"
   },
   "source": [
    "### **Question 1:** How many rows and columns are present in the data? [0.5 mark]"
   ]
  },
  {
   "cell_type": "code",
   "execution_count": 6,
   "metadata": {
    "id": "xaLu_bAm2rdE"
   },
   "outputs": [
    {
     "data": {
      "text/plain": [
       "(1898, 9)"
      ]
     },
     "execution_count": 6,
     "metadata": {},
     "output_type": "execute_result"
    }
   ],
   "source": [
    "# Check the shape of the dataset\n",
    "df.shape ## Fill in the blank"
   ]
  },
  {
   "cell_type": "markdown",
   "metadata": {
    "id": "-YJkCL112rdF"
   },
   "source": [
    "### **Question 2:** What are the datatypes of the different columns in the dataset? [0.5 mark]"
   ]
  },
  {
   "cell_type": "code",
   "execution_count": 7,
   "metadata": {
    "id": "EUXmdNxe2rdF"
   },
   "outputs": [
    {
     "name": "stdout",
     "output_type": "stream",
     "text": [
      "<class 'pandas.core.frame.DataFrame'>\n",
      "RangeIndex: 1898 entries, 0 to 1897\n",
      "Data columns (total 9 columns):\n",
      " #   Column                 Non-Null Count  Dtype  \n",
      "---  ------                 --------------  -----  \n",
      " 0   order_id               1898 non-null   int64  \n",
      " 1   customer_id            1898 non-null   int64  \n",
      " 2   restaurant_name        1898 non-null   object \n",
      " 3   cuisine_type           1898 non-null   object \n",
      " 4   cost_of_the_order      1898 non-null   float64\n",
      " 5   day_of_the_week        1898 non-null   object \n",
      " 6   rating                 1898 non-null   object \n",
      " 7   food_preparation_time  1898 non-null   int64  \n",
      " 8   delivery_time          1898 non-null   int64  \n",
      "dtypes: float64(1), int64(4), object(4)\n",
      "memory usage: 133.6+ KB\n"
     ]
    }
   ],
   "source": [
    "df.info()"
   ]
  },
  {
   "cell_type": "markdown",
   "metadata": {
    "id": "Atn8lGeE2rdF"
   },
   "source": [
    "### **Question 3:** 'restaurant_name', 'cuisine_type', 'day_of_the_week' are object type attributes. Convert them to 'category' type. Does this result in reduced memory usage? Write your observations on the same. [1 Mark]"
   ]
  },
  {
   "cell_type": "code",
   "execution_count": 10,
   "metadata": {
    "id": "kZbMrwFC2rdG"
   },
   "outputs": [
    {
     "name": "stdout",
     "output_type": "stream",
     "text": [
      "<class 'pandas.core.frame.DataFrame'>\n",
      "RangeIndex: 1898 entries, 0 to 1897\n",
      "Data columns (total 9 columns):\n",
      " #   Column                 Non-Null Count  Dtype   \n",
      "---  ------                 --------------  -----   \n",
      " 0   order_id               1898 non-null   int64   \n",
      " 1   customer_id            1898 non-null   int64   \n",
      " 2   restaurant_name        1898 non-null   category\n",
      " 3   cuisine_type           1898 non-null   category\n",
      " 4   cost_of_the_order      1898 non-null   float64 \n",
      " 5   day_of_the_week        1898 non-null   category\n",
      " 6   rating                 1898 non-null   object  \n",
      " 7   food_preparation_time  1898 non-null   int64   \n",
      " 8   delivery_time          1898 non-null   int64   \n",
      "dtypes: category(3), float64(1), int64(4), object(1)\n",
      "memory usage: 102.7+ KB\n"
     ]
    }
   ],
   "source": [
    "# Converting \"objects\" to \"category\" reduces the data space required to store the dataframe\n",
    "\n",
    "\n",
    "df.restaurant_name = df.restaurant_name.astype('category')     # Convert restaurant name from object to category\n",
    "df.cuisine_type = df.cuisine_type.astype('category')         ## Fill the code to convert cuisine type from object to category\n",
    "df.day_of_the_week = df.day_of_the_week.astype('category')     ## Fill the code to convert day of the week from object to category\n",
    "\n",
    "# Use info() to print a concise summary of the DataFrame\n",
    "df.info()"
   ]
  },
  {
   "cell_type": "markdown",
   "metadata": {
    "id": "krjqvuKv2rdG"
   },
   "source": [
    "### **Question 4:** Check the statistical summary of the data. What is the minimum, average, and maximum time it takes for food to be prepared once an order is placed? [2 marks]"
   ]
  },
  {
   "cell_type": "code",
   "execution_count": 157,
   "metadata": {
    "id": "MDZkL24f2rdG"
   },
   "outputs": [
    {
     "data": {
      "text/html": [
       "<div>\n",
       "<style scoped>\n",
       "    .dataframe tbody tr th:only-of-type {\n",
       "        vertical-align: middle;\n",
       "    }\n",
       "\n",
       "    .dataframe tbody tr th {\n",
       "        vertical-align: top;\n",
       "    }\n",
       "\n",
       "    .dataframe thead th {\n",
       "        text-align: right;\n",
       "    }\n",
       "</style>\n",
       "<table border=\"1\" class=\"dataframe\">\n",
       "  <thead>\n",
       "    <tr style=\"text-align: right;\">\n",
       "      <th></th>\n",
       "      <th>order_id</th>\n",
       "      <th>customer_id</th>\n",
       "      <th>cost_of_the_order</th>\n",
       "      <th>food_preparation_time</th>\n",
       "      <th>delivery_time</th>\n",
       "      <th>Revenue</th>\n",
       "      <th>total_time</th>\n",
       "    </tr>\n",
       "  </thead>\n",
       "  <tbody>\n",
       "    <tr>\n",
       "      <th>count</th>\n",
       "      <td>1898.00</td>\n",
       "      <td>1898.00</td>\n",
       "      <td>1898.00</td>\n",
       "      <td>1898.00</td>\n",
       "      <td>1898.00</td>\n",
       "      <td>1898.00</td>\n",
       "      <td>1898.00</td>\n",
       "    </tr>\n",
       "    <tr>\n",
       "      <th>mean</th>\n",
       "      <td>1477495.50</td>\n",
       "      <td>171168.48</td>\n",
       "      <td>16.50</td>\n",
       "      <td>27.37</td>\n",
       "      <td>24.16</td>\n",
       "      <td>3.25</td>\n",
       "      <td>51.53</td>\n",
       "    </tr>\n",
       "    <tr>\n",
       "      <th>std</th>\n",
       "      <td>548.05</td>\n",
       "      <td>113698.14</td>\n",
       "      <td>7.48</td>\n",
       "      <td>4.63</td>\n",
       "      <td>4.97</td>\n",
       "      <td>2.30</td>\n",
       "      <td>6.83</td>\n",
       "    </tr>\n",
       "    <tr>\n",
       "      <th>min</th>\n",
       "      <td>1476547.00</td>\n",
       "      <td>1311.00</td>\n",
       "      <td>4.47</td>\n",
       "      <td>20.00</td>\n",
       "      <td>15.00</td>\n",
       "      <td>0.00</td>\n",
       "      <td>35.00</td>\n",
       "    </tr>\n",
       "    <tr>\n",
       "      <th>25%</th>\n",
       "      <td>1477021.25</td>\n",
       "      <td>77787.75</td>\n",
       "      <td>12.08</td>\n",
       "      <td>23.00</td>\n",
       "      <td>20.00</td>\n",
       "      <td>1.81</td>\n",
       "      <td>47.00</td>\n",
       "    </tr>\n",
       "    <tr>\n",
       "      <th>50%</th>\n",
       "      <td>1477495.50</td>\n",
       "      <td>128600.00</td>\n",
       "      <td>14.14</td>\n",
       "      <td>27.00</td>\n",
       "      <td>25.00</td>\n",
       "      <td>2.12</td>\n",
       "      <td>52.00</td>\n",
       "    </tr>\n",
       "    <tr>\n",
       "      <th>75%</th>\n",
       "      <td>1477969.75</td>\n",
       "      <td>270525.00</td>\n",
       "      <td>22.30</td>\n",
       "      <td>31.00</td>\n",
       "      <td>28.00</td>\n",
       "      <td>5.57</td>\n",
       "      <td>56.00</td>\n",
       "    </tr>\n",
       "    <tr>\n",
       "      <th>max</th>\n",
       "      <td>1478444.00</td>\n",
       "      <td>405334.00</td>\n",
       "      <td>35.41</td>\n",
       "      <td>35.00</td>\n",
       "      <td>33.00</td>\n",
       "      <td>8.85</td>\n",
       "      <td>68.00</td>\n",
       "    </tr>\n",
       "  </tbody>\n",
       "</table>\n",
       "</div>"
      ],
      "text/plain": [
       "         order_id customer_id cost_of_the_order food_preparation_time  \\\n",
       "count     1898.00     1898.00           1898.00               1898.00   \n",
       "mean   1477495.50   171168.48             16.50                 27.37   \n",
       "std        548.05   113698.14              7.48                  4.63   \n",
       "min    1476547.00     1311.00              4.47                 20.00   \n",
       "25%    1477021.25    77787.75             12.08                 23.00   \n",
       "50%    1477495.50   128600.00             14.14                 27.00   \n",
       "75%    1477969.75   270525.00             22.30                 31.00   \n",
       "max    1478444.00   405334.00             35.41                 35.00   \n",
       "\n",
       "      delivery_time  Revenue total_time  \n",
       "count       1898.00  1898.00    1898.00  \n",
       "mean          24.16     3.25      51.53  \n",
       "std            4.97     2.30       6.83  \n",
       "min           15.00     0.00      35.00  \n",
       "25%           20.00     1.81      47.00  \n",
       "50%           25.00     2.12      52.00  \n",
       "75%           28.00     5.57      56.00  \n",
       "max           33.00     8.85      68.00  "
      ]
     },
     "execution_count": 157,
     "metadata": {},
     "output_type": "execute_result"
    }
   ],
   "source": [
    "# Get the summary statistics of the numerical data\n",
    "df.describe().applymap('{:.2f}'.format)\n",
    "## Write the appropriate function to print the statitical summary of the data (Hint - you have seen this in the case studies before)"
   ]
  },
  {
   "cell_type": "markdown",
   "metadata": {
    "id": "LDlbXZWG2rdH"
   },
   "source": [
    "### **Question 5:** How many orders are not rated? [1 mark]"
   ]
  },
  {
   "cell_type": "code",
   "execution_count": 20,
   "metadata": {
    "id": "RUJo1me22rdH"
   },
   "outputs": [
    {
     "data": {
      "text/plain": [
       "Not given    736\n",
       "5            588\n",
       "4            386\n",
       "3            188\n",
       "Name: rating, dtype: int64"
      ]
     },
     "execution_count": 20,
     "metadata": {},
     "output_type": "execute_result"
    }
   ],
   "source": [
    "df['rating'].value_counts() ## Complete the code "
   ]
  },
  {
   "cell_type": "markdown",
   "metadata": {
    "id": "LUh8hTiW2rdH"
   },
   "source": [
    "### Exploratory Data Analysis (EDA)"
   ]
  },
  {
   "cell_type": "markdown",
   "metadata": {
    "id": "2Dl2aL1W2rdI"
   },
   "source": [
    "### Univariate Analysis"
   ]
  },
  {
   "cell_type": "markdown",
   "metadata": {
    "id": "gxBiurJ-2rdI"
   },
   "source": [
    "### **Question 6:** Explore all the variables and provide observations on their distributions. (Generally, histograms, boxplots, countplots, etc. are used for univariate exploration.) [9 marks]"
   ]
  },
  {
   "cell_type": "code",
   "execution_count": 160,
   "metadata": {
    "id": "IXrmAOAC2rdI"
   },
   "outputs": [],
   "source": [
    "# Function to plot a boxplot and a histogram along the same scale. \n",
    "# Run this chunk of code to define this function - this will be very useful in data visualisation.\n",
    "# This function is same as the one used in the Mentorship Case Studies earlier. \n",
    "\n",
    "def histogram_boxplot(df, feature, figsize=(12, 7), kde=False, bins=None):\n",
    "    \"\"\"\n",
    "    Boxplot and histogram combined\n",
    "\n",
    "    data: dataframe\n",
    "    feature: dataframe column\n",
    "    figsize: size of figure (default (12,7))\n",
    "    kde: whether to show the density curve (default False)\n",
    "    bins: number of bins for histogram (default None)\n",
    "    \"\"\"\n",
    "    f2, (ax_box2, ax_hist2) = plt.subplots(\n",
    "        nrows=2,  # Number of rows of the subplot grid= 2\n",
    "        sharex=True,  # x-axis will be shared among all subplots\n",
    "        gridspec_kw={\"height_ratios\": (0.25, 0.75)},\n",
    "        figsize=figsize,\n",
    "    )  # creating the 2 subplots\n",
    "    sns.boxplot(\n",
    "        data=df, x=feature, ax=ax_box2, showmeans=True, color=\"violet\"\n",
    "    )  # boxplot will be created and a star will indicate the mean value of the column\n",
    "    sns.histplot(\n",
    "        data=df, x=feature, kde=kde, ax=ax_hist2, bins=bins, palette=\"winter\"\n",
    "    ) if bins else sns.histplot(\n",
    "        data=df, x=feature, kde=kde, ax=ax_hist2\n",
    "    )  # For histogram\n",
    "    ax_hist2.axvline(\n",
    "        df[feature].mean(), color=\"green\", linestyle=\"--\"\n",
    "    )  # Add mean to the histogram\n",
    "    ax_hist2.axvline(\n",
    "        df[feature].median(), color=\"black\", linestyle=\"-\"\n",
    "    )  # Add median to the histogram"
   ]
  },
  {
   "cell_type": "code",
   "execution_count": 161,
   "metadata": {
    "id": "0k9ehMzh2rdI"
   },
   "outputs": [],
   "source": [
    "# Function to create labeled barplots\n",
    "# Run this chunk of code to define this function - this will be very useful in data visualisation.\n",
    "# This function is also same as the one used in the Mentorship Case Studies earlier. \n",
    "\n",
    "\n",
    "def labeled_barplot(df, feature, perc=False, n=None):\n",
    "    \"\"\"\n",
    "    Barplot with percentage at the top\n",
    "\n",
    "    data: dataframe\n",
    "    feature: dataframe column\n",
    "    perc: whether to display percentages instead of count (default is False)\n",
    "    n: displays the top n category levels (default is None, i.e., display all levels)\n",
    "    \"\"\"\n",
    "\n",
    "    total = len(df[feature])  # length of the column\n",
    "    count = df[feature].nunique()\n",
    "    if n is None:\n",
    "        plt.figure(figsize=(count + 1, 5))\n",
    "    else:\n",
    "        plt.figure(figsize=(n + 1, 5))\n",
    "\n",
    "    plt.xticks(rotation=90, fontsize=15)\n",
    "    ax = sns.countplot(\n",
    "        data=df,\n",
    "        x=feature,\n",
    "        palette=\"Paired\",\n",
    "        order=df[feature].value_counts().index[:n].sort_values(),\n",
    "    )\n",
    "\n",
    "    for p in ax.patches:\n",
    "        if perc == True:\n",
    "            label = \"{:.1f}%\".format(\n",
    "                100 * p.get_height() / total\n",
    "            )  # percentage of each class of the category\n",
    "        else:\n",
    "            label = p.get_height()  # count of each level of the category\n",
    "\n",
    "        x = p.get_x() + p.get_width() / 2  # width of the plot\n",
    "        y = p.get_height()  # height of the plot\n",
    "\n",
    "        ax.annotate(\n",
    "            label,\n",
    "            (x, y),\n",
    "            ha=\"center\",\n",
    "            va=\"center\",\n",
    "            size=12,\n",
    "            xytext=(0, 5),\n",
    "            textcoords=\"offset points\",\n",
    "        )  # annotate the percentage\n",
    "\n",
    "    plt.show()  # show the plot"
   ]
  },
  {
   "cell_type": "markdown",
   "metadata": {
    "id": "X7jR8GHN2rdK"
   },
   "source": [
    "#### Cuisine type"
   ]
  },
  {
   "cell_type": "code",
   "execution_count": 33,
   "metadata": {
    "id": "uFd2adxc2rdK"
   },
   "outputs": [
    {
     "data": {
      "text/plain": [
       "['Korean', 'Japanese', 'Mexican', 'American', 'Indian', ..., 'Thai', 'Southern', 'French', 'Spanish', 'Vietnamese']\n",
       "Length: 14\n",
       "Categories (14, object): ['Korean', 'Japanese', 'Mexican', 'American', ..., 'Southern', 'French', 'Spanish', 'Vietnamese']"
      ]
     },
     "execution_count": 33,
     "metadata": {},
     "output_type": "execute_result"
    }
   ],
   "source": [
    "# Check unique cuisine type\n",
    "df['cuisine_type'].unique() ## Complete the code to find out unique cuisine type"
   ]
  },
  {
   "cell_type": "code",
   "execution_count": 162,
   "metadata": {
    "id": "4JHi590P2rdK",
    "scrolled": true
   },
   "outputs": [
    {
     "data": {
      "image/png": "[encoded data removed]",
      "text/plain": [
       "<Figure size 1080x360 with 1 Axes>"
      ]
     },
     "metadata": {
      "needs_background": "light"
     },
     "output_type": "display_data"
    }
   ],
   "source": [
    "labeled_barplot(df, 'cuisine_type', perc=True) ## Labeled barplot for cuisine type. Notice that we are using the function that we defined above."
   ]
  },
  {
   "cell_type": "markdown",
   "metadata": {
    "id": "fmWW_qb42rdL"
   },
   "source": [
    "#### Cost of the order"
   ]
  },
  {
   "cell_type": "code",
   "execution_count": 163,
   "metadata": {
    "id": "kq1lIbf42rdL",
    "scrolled": false
   },
   "outputs": [
    {
     "data": {
      "image/png": "[encoded data removed]",
      "text/plain": [
       "<Figure size 864x504 with 2 Axes>"
      ]
     },
     "metadata": {
      "needs_background": "light"
     },
     "output_type": "display_data"
    }
   ],
   "source": [
    "histogram_boxplot(df, 'cost_of_the_order') ## Histogram boxplot for the cost of order"
   ]
  },
  {
   "cell_type": "markdown",
   "metadata": {
    "id": "p34KqEqx2rdL"
   },
   "source": [
    "#### Day of the week"
   ]
  },
  {
   "cell_type": "code",
   "execution_count": 36,
   "metadata": {
    "id": "KBMjgXjv2rdL"
   },
   "outputs": [
    {
     "data": {
      "text/plain": [
       "['Weekend', 'Weekday']\n",
       "Categories (2, object): ['Weekend', 'Weekday']"
      ]
     },
     "execution_count": 36,
     "metadata": {},
     "output_type": "execute_result"
    }
   ],
   "source": [
    "# # Check the unique values\n",
    "df['day_of_the_week'].unique() ## Complete the code to check unique values for the 'day_of_the_week' column"
   ]
  },
  {
   "cell_type": "code",
   "execution_count": 164,
   "metadata": {
    "id": "Q5jvwJkZ2rdL",
    "scrolled": false
   },
   "outputs": [
    {
     "data": {
      "image/png": "[encoded data removed]",
      "text/plain": [
       "<Figure size 216x360 with 1 Axes>"
      ]
     },
     "metadata": {
      "needs_background": "light"
     },
     "output_type": "display_data"
    }
   ],
   "source": [
    "labeled_barplot(df,'day_of_the_week',perc=True) ## Complete the code to plot labeled_barplot for 'day_of_the_week' column"
   ]
  },
  {
   "cell_type": "markdown",
   "metadata": {
    "id": "1oOW_lzO2rdL"
   },
   "source": [
    "#### Rating"
   ]
  },
  {
   "cell_type": "code",
   "execution_count": 38,
   "metadata": {
    "id": "TNxjskCF2rdL",
    "scrolled": true
   },
   "outputs": [
    {
     "data": {
      "text/plain": [
       "array(['Not given', '5', '3', '4'], dtype=object)"
      ]
     },
     "execution_count": 38,
     "metadata": {},
     "output_type": "execute_result"
    }
   ],
   "source": [
    "# Check the unique values\n",
    "df['rating'].unique() ## Complete the code to check unique values for the 'rating' column"
   ]
  },
  {
   "cell_type": "code",
   "execution_count": 165,
   "metadata": {
    "id": "aP_djdHY2rdM",
    "scrolled": true
   },
   "outputs": [
    {
     "data": {
      "image/png": "[encoded data removed]",
      "text/plain": [
       "<Figure size 360x360 with 1 Axes>"
      ]
     },
     "metadata": {
      "needs_background": "light"
     },
     "output_type": "display_data"
    }
   ],
   "source": [
    "labeled_barplot(df, 'rating',perc=True) ## Complete the code to plot labeled_barplot for 'rating' column"
   ]
  },
  {
   "cell_type": "markdown",
   "metadata": {
    "id": "OP1gYWnR2rdM"
   },
   "source": [
    "#### Food Preparation time"
   ]
  },
  {
   "cell_type": "code",
   "execution_count": 166,
   "metadata": {
    "id": "TYiF3h3t2rdM",
    "scrolled": true
   },
   "outputs": [
    {
     "data": {
      "image/png": "[encoded data removed]",
      "text/plain": [
       "<Figure size 864x504 with 2 Axes>"
      ]
     },
     "metadata": {
      "needs_background": "light"
     },
     "output_type": "display_data"
    }
   ],
   "source": [
    "histogram_boxplot(df,'food_preparation_time') ## Complete the code to plot histogram_boxplot for 'food_preparation_time' column"
   ]
  },
  {
   "cell_type": "markdown",
   "metadata": {
    "id": "ENW0PF5b2rdM"
   },
   "source": [
    "#### Delivery time"
   ]
  },
  {
   "cell_type": "code",
   "execution_count": 167,
   "metadata": {
    "id": "_1ZcT_SM2rdM",
    "scrolled": true
   },
   "outputs": [
    {
     "data": {
      "image/png": "[encoded data removed]",
      "text/plain": [
       "<Figure size 864x504 with 2 Axes>"
      ]
     },
     "metadata": {
      "needs_background": "light"
     },
     "output_type": "display_data"
    }
   ],
   "source": [
    "histogram_boxplot(df,'delivery_time') ## Complete the code to plot histogram_boxplot for 'delivery_time' column"
   ]
  },
  {
   "cell_type": "markdown",
   "metadata": {
    "id": "HMwsI8f32rdM"
   },
   "source": [
    "### **Question 7:** Which are the top 5 restaurants in terms of the number of orders received? [1 mark]"
   ]
  },
  {
   "cell_type": "code",
   "execution_count": 60,
   "metadata": {
    "id": "OLQISNlc2rdM"
   },
   "outputs": [
    {
     "data": {
      "text/plain": [
       "restaurant_name\n",
       "Shake Shack                  219\n",
       "The Meatball Shop            132\n",
       "Blue Ribbon Sushi            119\n",
       "Blue Ribbon Fried Chicken     96\n",
       "Parm                          68\n",
       "Name: order_id, dtype: int64"
      ]
     },
     "execution_count": 60,
     "metadata": {},
     "output_type": "execute_result"
    }
   ],
   "source": [
    "# Get top 5 restaurants with highest number of orders\n",
    "##df['restaurant_name'].nlargest(n=5) ## Complete the code\n",
    "df.groupby(['restaurant_name'])['order_id'].count().sort_values(ascending = False).head(5)"
   ]
  },
  {
   "cell_type": "markdown",
   "metadata": {
    "id": "OV26KAC42rdN"
   },
   "source": [
    "### **Question 8:** Which is the most popular cuisine on weekends? [1 mark]"
   ]
  },
  {
   "cell_type": "code",
   "execution_count": 168,
   "metadata": {
    "id": "BqL62Kuu2rdN"
   },
   "outputs": [
    {
     "data": {
      "text/plain": [
       "cuisine_type\n",
       "American    415\n",
       "Japanese    335\n",
       "Italian     207\n",
       "Chinese     163\n",
       "Mexican      53\n",
       "Name: order_id, dtype: int64"
      ]
     },
     "execution_count": 168,
     "metadata": {},
     "output_type": "execute_result"
    }
   ],
   "source": [
    "# Get most popular cuisine on weekends\n",
    "df_weekend = df[df['day_of_the_week'] == 'Weekend']\n",
    "df_weekend['cuisine_type'].unique() ## Complete the code to check unique values for the cuisine type on weekend\n",
    "df_weekend.groupby(['cuisine_type'])['order_id'].count().sort_values(ascending = False).head(5)"
   ]
  },
  {
   "cell_type": "markdown",
   "metadata": {
    "id": "UPFNE6Da2rdN"
   },
   "source": [
    "### **Question 9:** What percentage of the orders cost more than 20 dollars? [2 marks]\n"
   ]
  },
  {
   "cell_type": "code",
   "execution_count": 49,
   "metadata": {
    "id": "gHlH53rJ2rdN"
   },
   "outputs": [
    {
     "name": "stdout",
     "output_type": "stream",
     "text": [
      "The number of total orders that cost above 20 dollars is: 555\n",
      "Percentage of orders above 20 dollars: 29.24 %\n"
     ]
    }
   ],
   "source": [
    "# Get orders that cost above 20 dollars\n",
    "df_greater_than_20 = df[df['cost_of_the_order']>20] ## Write the appropriate column name to get the orders having cost above $20\n",
    "\n",
    "# Calculate the number of total orders where the cost is above 20 dollars\n",
    "print('The number of total orders that cost above 20 dollars is:', df_greater_than_20.shape[0])\n",
    "\n",
    "# Calculate percentage of such orders in the dataset\n",
    "percentage = (df_greater_than_20.shape[0] / df.shape[0]) * 100\n",
    "\n",
    "print(\"Percentage of orders above 20 dollars:\", round(percentage, 2), '%')"
   ]
  },
  {
   "cell_type": "markdown",
   "metadata": {
    "id": "rmOXTij42rdN"
   },
   "source": [
    "### **Question 10:** What is the mean order delivery time? [1 mark]"
   ]
  },
  {
   "cell_type": "code",
   "execution_count": 51,
   "metadata": {
    "id": "733fsOoO2rdN"
   },
   "outputs": [
    {
     "name": "stdout",
     "output_type": "stream",
     "text": [
      "The mean delivery time for this dataset is 24.16 minutes\n"
     ]
    }
   ],
   "source": [
    "# Get the mean delivery time\n",
    "mean_del_time = df['delivery_time'].mean()  ## Write the appropriate function to obtain the mean delivery time\n",
    "\n",
    "print('The mean delivery time for this dataset is', round(mean_del_time, 2), 'minutes')"
   ]
  },
  {
   "cell_type": "markdown",
   "metadata": {
    "id": "7C_G-BEy2rdO"
   },
   "source": [
    "### **Question 11:** The company has decided to give 20% discount vouchers to the top 5 most frequent customers. Find the IDs of these customers and the number of orders they placed. [1 mark]"
   ]
  },
  {
   "cell_type": "code",
   "execution_count": 52,
   "metadata": {
    "id": "U-husHb6F5lY"
   },
   "outputs": [
    {
     "data": {
      "text/plain": [
       "52832     13\n",
       "47440     10\n",
       "83287      9\n",
       "250494     8\n",
       "65009      7\n",
       "Name: customer_id, dtype: int64"
      ]
     },
     "execution_count": 52,
     "metadata": {},
     "output_type": "execute_result"
    }
   ],
   "source": [
    "# Get the counts of  each customer_id\n",
    "df['customer_id'].value_counts().head()  ## Write the appropriate column name to get the top 5 cmost frequent customers"
   ]
  },
  {
   "cell_type": "markdown",
   "metadata": {
    "id": "4ceeYAVy2rdO"
   },
   "source": [
    "### Multivariate Analysis"
   ]
  },
  {
   "cell_type": "markdown",
   "metadata": {
    "id": "h-gdOXrS2rdO"
   },
   "source": [
    "### **Question 12:** Perform a multivariate analysis to explore relationships between the important variables in the dataset. (It is a good idea to explore relations between numerical variables as well as relations between numerical and categorical variables) [10 marks]"
   ]
  },
  {
   "cell_type": "markdown",
   "metadata": {
    "id": "sTYfSbdR2rdO"
   },
   "source": [
    "#### Cuisine vs Cost of the order"
   ]
  },
  {
   "cell_type": "code",
   "execution_count": 53,
   "metadata": {
    "id": "wzJpBxZQ2rdP"
   },
   "outputs": [
    {
     "data": {
      "image/png": "[encoded data removed]",
      "text/plain": [
       "<Figure size 1080x504 with 1 Axes>"
      ]
     },
     "metadata": {
      "needs_background": "light"
     },
     "output_type": "display_data"
    }
   ],
   "source": [
    "# Relationship between cost of the order and cuisine type\n",
    "plt.figure(figsize=(15,7))\n",
    "sns.boxplot(x = \"cuisine_type\", y = \"cost_of_the_order\", data = df, palette = 'PuBu')\n",
    "plt.xticks(rotation = 60)\n",
    "plt.show()"
   ]
  },
  {
   "cell_type": "markdown",
   "metadata": {
    "id": "cmf4oTiB2rdQ"
   },
   "source": [
    "#### Cuisine vs Food Preparation time"
   ]
  },
  {
   "cell_type": "code",
   "execution_count": 59,
   "metadata": {
    "id": "cfeDWTgN2rdQ",
    "scrolled": true
   },
   "outputs": [
    {
     "data": {
      "image/png": "[encoded data removed]",
      "text/plain": [
       "<Figure size 1080x504 with 1 Axes>"
      ]
     },
     "metadata": {
      "needs_background": "light"
     },
     "output_type": "display_data"
    }
   ],
   "source": [
    "# Relationship between food preparation time and cuisine type\n",
    "plt.figure(figsize=(15,7))\n",
    "sns.boxplot(x='food_preparation_time', y='cuisine_type', data=df)  ## Complete the code to visualize the relationship between food preparation time and cuisine type using boxplot\n",
    "plt.xticks(rotation = 60)\n",
    "plt.show()"
   ]
  },
  {
   "cell_type": "markdown",
   "metadata": {
    "id": "28L5vjZw2rdQ"
   },
   "source": [
    "#### Day of the Week vs Delivery time"
   ]
  },
  {
   "cell_type": "code",
   "execution_count": 57,
   "metadata": {
    "id": "fG3QyQ452rdQ",
    "scrolled": true
   },
   "outputs": [
    {
     "data": {
      "image/png": "[encoded data removed]",
      "text/plain": [
       "<Figure size 1080x504 with 1 Axes>"
      ]
     },
     "metadata": {
      "needs_background": "light"
     },
     "output_type": "display_data"
    }
   ],
   "source": [
    "# Relationship between day of the week and delivery time\n",
    "plt.figure(figsize=(15,7))\n",
    "sns.boxplot(x = 'day_of_the_week', y = 'delivery_time', data = df)  ## Complete the code to visualize the relationship between day of the week and delivery time using boxplot\n",
    "plt.show()"
   ]
  },
  {
   "cell_type": "markdown",
   "metadata": {
    "id": "UnppMp022rdQ"
   },
   "source": [
    "#### Run the below code and write your observations on the revenue generated by the restaurants."
   ]
  },
  {
   "cell_type": "code",
   "execution_count": 58,
   "metadata": {
    "id": "LaDfuzIt2rdR",
    "scrolled": false
   },
   "outputs": [
    {
     "data": {
      "text/plain": [
       "restaurant_name\n",
       "Shake Shack                      3579.53\n",
       "The Meatball Shop                2145.21\n",
       "Blue Ribbon Sushi                1903.95\n",
       "Blue Ribbon Fried Chicken        1662.29\n",
       "Parm                             1112.76\n",
       "RedFarm Broadway                  965.13\n",
       "RedFarm Hudson                    921.21\n",
       "TAO                               834.50\n",
       "Han Dynasty                       755.29\n",
       "Blue Ribbon Sushi Bar & Grill     666.62\n",
       "Rubirosa                          660.45\n",
       "Sushi of Gari 46                  640.87\n",
       "Nobu Next Door                    623.67\n",
       "Five Guys Burgers and Fries       506.47\n",
       "Name: cost_of_the_order, dtype: float64"
      ]
     },
     "execution_count": 58,
     "metadata": {},
     "output_type": "execute_result"
    }
   ],
   "source": [
    "df.groupby(['restaurant_name'])['cost_of_the_order'].sum().sort_values(ascending = False).head(14)"
   ]
  },
  {
   "cell_type": "markdown",
   "metadata": {
    "id": "lu0o5GkQ2rdR"
   },
   "source": [
    "#### Rating vs Delivery time"
   ]
  },
  {
   "cell_type": "code",
   "execution_count": 186,
   "metadata": {
    "id": "NoBGHlPR2rdR",
    "scrolled": true
   },
   "outputs": [
    {
     "data": {
      "image/png": "[encoded data removed]",
      "text/plain": [
       "<Figure size 1080x504 with 1 Axes>"
      ]
     },
     "metadata": {
      "needs_background": "light"
     },
     "output_type": "display_data"
    }
   ],
   "source": [
    "# Relationship between rating and delivery time\n",
    "plt.figure(figsize=(15, 7))\n",
    "sns.pointplot(x = 'rating', y = 'delivery_time', data = df, order=['3','4','5','Not given'])\n",
    "plt.show()"
   ]
  },
  {
   "cell_type": "markdown",
   "metadata": {
    "id": "EUW_xUEK2rdR"
   },
   "source": [
    "#### Rating vs Food preparation time"
   ]
  },
  {
   "cell_type": "code",
   "execution_count": 188,
   "metadata": {
    "id": "d7qzVLdE2rdR",
    "scrolled": true
   },
   "outputs": [
    {
     "data": {
      "image/png": "[encoded data removed]",
      "text/plain": [
       "<Figure size 1080x504 with 1 Axes>"
      ]
     },
     "metadata": {
      "needs_background": "light"
     },
     "output_type": "display_data"
    }
   ],
   "source": [
    "# Relationship between rating and food preparation time\n",
    "plt.figure(figsize=(15, 7))\n",
    "sns.pointplot(x='rating', y='food_preparation_time',data=df, order=['3','4','5','Not given'])  ## Complete the code to visualize the relationship between rating and food preparation time using pointplot\n",
    "plt.show()"
   ]
  },
  {
   "cell_type": "markdown",
   "metadata": {
    "id": "x1xcxS6h2rdS"
   },
   "source": [
    "#### Rating vs Cost of the order"
   ]
  },
  {
   "cell_type": "code",
   "execution_count": 187,
   "metadata": {
    "id": "QV1lg0_72rdS"
   },
   "outputs": [
    {
     "data": {
      "image/png": "[encoded data removed]",
      "text/plain": [
       "<Figure size 1080x504 with 1 Axes>"
      ]
     },
     "metadata": {
      "needs_background": "light"
     },
     "output_type": "display_data"
    }
   ],
   "source": [
    "# Relationship between rating and cost of the order\n",
    "plt.figure(figsize=(15, 7))\n",
    "sns.pointplot(x='rating', y='cost_of_the_order', data=df, order=['3','4','5','Not given'])   ## Complete the code to visualize the relationship between rating and cost of the order using pointplot\n",
    "plt.show()"
   ]
  },
  {
   "cell_type": "markdown",
   "metadata": {
    "id": "N1ATzdSX2rdS"
   },
   "source": [
    "#### Correlation among variables"
   ]
  },
  {
   "cell_type": "code",
   "execution_count": 64,
   "metadata": {
    "id": "I4yA0y032rdS",
    "scrolled": true
   },
   "outputs": [
    {
     "data": {
      "image/png": "[encoded data removed]",
      "text/plain": [
       "<Figure size 1080x504 with 2 Axes>"
      ]
     },
     "metadata": {
      "needs_background": "light"
     },
     "output_type": "display_data"
    }
   ],
   "source": [
    "# Plot the heatmap \n",
    "col_list = ['cost_of_the_order', 'food_preparation_time', 'delivery_time']\n",
    "plt.figure(figsize=(15, 7))\n",
    "sns.heatmap(df[col_list].corr(), annot=True, vmin=-1, vmax=1, fmt=\".2f\", cmap=\"Spectral\")\n",
    "plt.show()"
   ]
  },
  {
   "cell_type": "markdown",
   "metadata": {
    "id": "zwBb5dAq2rdS"
   },
   "source": [
    "### **Question 13:** The company wants to provide a promotional offer in the advertisement of the restaurants. The condition to get the offer is that the restaurants must have a rating count of more than 50 and the average rating should be greater than 4. Find the restaurants fulfilling the criteria to get the promotional offer. [3 marks]"
   ]
  },
  {
   "cell_type": "code",
   "execution_count": 101,
   "metadata": {
    "id": "4jQUoQ812rdS",
    "scrolled": true
   },
   "outputs": [
    {
     "data": {
      "text/html": [
       "<div>\n",
       "<style scoped>\n",
       "    .dataframe tbody tr th:only-of-type {\n",
       "        vertical-align: middle;\n",
       "    }\n",
       "\n",
       "    .dataframe tbody tr th {\n",
       "        vertical-align: top;\n",
       "    }\n",
       "\n",
       "    .dataframe thead th {\n",
       "        text-align: right;\n",
       "    }\n",
       "</style>\n",
       "<table border=\"1\" class=\"dataframe\">\n",
       "  <thead>\n",
       "    <tr style=\"text-align: right;\">\n",
       "      <th></th>\n",
       "      <th>restaurant_name</th>\n",
       "      <th>rating</th>\n",
       "    </tr>\n",
       "  </thead>\n",
       "  <tbody>\n",
       "    <tr>\n",
       "      <th>0</th>\n",
       "      <td>Shake Shack</td>\n",
       "      <td>133</td>\n",
       "    </tr>\n",
       "    <tr>\n",
       "      <th>1</th>\n",
       "      <td>The Meatball Shop</td>\n",
       "      <td>84</td>\n",
       "    </tr>\n",
       "    <tr>\n",
       "      <th>2</th>\n",
       "      <td>Blue Ribbon Sushi</td>\n",
       "      <td>73</td>\n",
       "    </tr>\n",
       "    <tr>\n",
       "      <th>3</th>\n",
       "      <td>Blue Ribbon Fried Chicken</td>\n",
       "      <td>64</td>\n",
       "    </tr>\n",
       "    <tr>\n",
       "      <th>4</th>\n",
       "      <td>RedFarm Broadway</td>\n",
       "      <td>41</td>\n",
       "    </tr>\n",
       "  </tbody>\n",
       "</table>\n",
       "</div>"
      ],
      "text/plain": [
       "             restaurant_name  rating\n",
       "0                Shake Shack     133\n",
       "1          The Meatball Shop      84\n",
       "2          Blue Ribbon Sushi      73\n",
       "3  Blue Ribbon Fried Chicken      64\n",
       "4           RedFarm Broadway      41"
      ]
     },
     "execution_count": 101,
     "metadata": {},
     "output_type": "execute_result"
    }
   ],
   "source": [
    "# Filter the rated restaurants\n",
    "df_rated = df[df['rating'] != 'Not given'].copy()\n",
    "\n",
    "# Convert rating column from object to integer\n",
    "df_rated['rating'] = df_rated['rating'].astype('int')  \n",
    "\n",
    "# Create a dataframe that contains the restaurant names with their rating counts\n",
    "df_rating_count = df_rated.groupby(['restaurant_name'])['rating'].count().sort_values(ascending = False).reset_index()\n",
    "df_rating_count.head() \n"
   ]
  },
  {
   "cell_type": "code",
   "execution_count": 169,
   "metadata": {
    "id": "VLdgfwoL2rdT"
   },
   "outputs": [
    {
     "data": {
      "text/html": [
       "<div>\n",
       "<style scoped>\n",
       "    .dataframe tbody tr th:only-of-type {\n",
       "        vertical-align: middle;\n",
       "    }\n",
       "\n",
       "    .dataframe tbody tr th {\n",
       "        vertical-align: top;\n",
       "    }\n",
       "\n",
       "    .dataframe thead th {\n",
       "        text-align: right;\n",
       "    }\n",
       "</style>\n",
       "<table border=\"1\" class=\"dataframe\">\n",
       "  <thead>\n",
       "    <tr style=\"text-align: right;\">\n",
       "      <th></th>\n",
       "      <th>restaurant_name</th>\n",
       "      <th>rating</th>\n",
       "    </tr>\n",
       "  </thead>\n",
       "  <tbody>\n",
       "    <tr>\n",
       "      <th>0</th>\n",
       "      <td>The Meatball Shop</td>\n",
       "      <td>4.511905</td>\n",
       "    </tr>\n",
       "    <tr>\n",
       "      <th>1</th>\n",
       "      <td>Blue Ribbon Fried Chicken</td>\n",
       "      <td>4.328125</td>\n",
       "    </tr>\n",
       "    <tr>\n",
       "      <th>2</th>\n",
       "      <td>Shake Shack</td>\n",
       "      <td>4.278195</td>\n",
       "    </tr>\n",
       "    <tr>\n",
       "      <th>3</th>\n",
       "      <td>Blue Ribbon Sushi</td>\n",
       "      <td>4.219178</td>\n",
       "    </tr>\n",
       "  </tbody>\n",
       "</table>\n",
       "</div>"
      ],
      "text/plain": [
       "             restaurant_name    rating\n",
       "0          The Meatball Shop  4.511905\n",
       "1  Blue Ribbon Fried Chicken  4.328125\n",
       "2                Shake Shack  4.278195\n",
       "3          Blue Ribbon Sushi  4.219178"
      ]
     },
     "execution_count": 169,
     "metadata": {},
     "output_type": "execute_result"
    }
   ],
   "source": [
    "## Get the restaurant names that have rating count more than 50\n",
    "## Complete the code to get the restaurant names having rating count more than 50\n",
    "rest_names = df_rating_count[df_rating_count['rating'] > 50]['restaurant_name']\n",
    "                                                        \n",
    "# Filter to get the data of restaurants that have rating count more than 50\n",
    "df_mean_4 = df_rated[df_rated['restaurant_name'].isin(rest_names)].copy()\n",
    "\n",
    "# Group the restaurant names with their ratings and find the mean rating of each restaurant\n",
    "df_mean_4.groupby(['restaurant_name'])['rating'].mean().sort_values(ascending = False).reset_index().dropna().head()\n",
    "\n",
    "                             \n",
    "\n",
    "## Complete the code to find the mean rating\n"
   ]
  },
  {
   "cell_type": "markdown",
   "metadata": {
    "id": "UYq_xMk72rdT"
   },
   "source": [
    "### **Question 14:** The company charges the restaurant 25% on the orders having cost greater than 20 dollars and 15% on the orders having cost greater than 5 dollars. Find the net revenue generated by the company across all orders. [3 marks]"
   ]
  },
  {
   "cell_type": "code",
   "execution_count": 195,
   "metadata": {
    "id": "We7SLKbr2rdT"
   },
   "outputs": [
    {
     "data": {
      "text/html": [
       "<div>\n",
       "<style scoped>\n",
       "    .dataframe tbody tr th:only-of-type {\n",
       "        vertical-align: middle;\n",
       "    }\n",
       "\n",
       "    .dataframe tbody tr th {\n",
       "        vertical-align: top;\n",
       "    }\n",
       "\n",
       "    .dataframe thead th {\n",
       "        text-align: right;\n",
       "    }\n",
       "</style>\n",
       "<table border=\"1\" class=\"dataframe\">\n",
       "  <thead>\n",
       "    <tr style=\"text-align: right;\">\n",
       "      <th></th>\n",
       "      <th>restaurant_name</th>\n",
       "      <th>Revenue</th>\n",
       "    </tr>\n",
       "  </thead>\n",
       "  <tbody>\n",
       "    <tr>\n",
       "      <th>0</th>\n",
       "      <td>Shake Shack</td>\n",
       "      <td>703.6070</td>\n",
       "    </tr>\n",
       "    <tr>\n",
       "      <th>1</th>\n",
       "      <td>The Meatball Shop</td>\n",
       "      <td>419.8285</td>\n",
       "    </tr>\n",
       "    <tr>\n",
       "      <th>2</th>\n",
       "      <td>Blue Ribbon Sushi</td>\n",
       "      <td>360.4605</td>\n",
       "    </tr>\n",
       "    <tr>\n",
       "      <th>3</th>\n",
       "      <td>Blue Ribbon Fried Chicken</td>\n",
       "      <td>340.2035</td>\n",
       "    </tr>\n",
       "    <tr>\n",
       "      <th>4</th>\n",
       "      <td>Parm</td>\n",
       "      <td>218.5570</td>\n",
       "    </tr>\n",
       "    <tr>\n",
       "      <th>5</th>\n",
       "      <td>RedFarm Broadway</td>\n",
       "      <td>191.4675</td>\n",
       "    </tr>\n",
       "    <tr>\n",
       "      <th>6</th>\n",
       "      <td>RedFarm Hudson</td>\n",
       "      <td>180.9340</td>\n",
       "    </tr>\n",
       "    <tr>\n",
       "      <th>7</th>\n",
       "      <td>TAO</td>\n",
       "      <td>167.3570</td>\n",
       "    </tr>\n",
       "    <tr>\n",
       "      <th>8</th>\n",
       "      <td>Han Dynasty</td>\n",
       "      <td>149.3985</td>\n",
       "    </tr>\n",
       "    <tr>\n",
       "      <th>9</th>\n",
       "      <td>Rubirosa</td>\n",
       "      <td>140.8085</td>\n",
       "    </tr>\n",
       "  </tbody>\n",
       "</table>\n",
       "</div>"
      ],
      "text/plain": [
       "             restaurant_name   Revenue\n",
       "0                Shake Shack  703.6070\n",
       "1          The Meatball Shop  419.8285\n",
       "2          Blue Ribbon Sushi  360.4605\n",
       "3  Blue Ribbon Fried Chicken  340.2035\n",
       "4                       Parm  218.5570\n",
       "5           RedFarm Broadway  191.4675\n",
       "6             RedFarm Hudson  180.9340\n",
       "7                        TAO  167.3570\n",
       "8                Han Dynasty  149.3985\n",
       "9                   Rubirosa  140.8085"
      ]
     },
     "execution_count": 195,
     "metadata": {},
     "output_type": "execute_result"
    }
   ],
   "source": [
    "#function to determine the revenue\n",
    "def compute_rev(x):\n",
    "    if x > 20:\n",
    "        return x*0.25\n",
    "    elif x > 5:\n",
    "        return x*0.15\n",
    "    else:\n",
    "        return x*0\n",
    "\n",
    "df['Revenue'] = df['cost_of_the_order'].apply(compute_rev) ## Write the appropriate column name to compute the revenue\n",
    "##df.head(10)\n",
    "df.groupby(['restaurant_name'])['Revenue'].sum().sort_values(ascending = False).reset_index().dropna().head(10)\n"
   ]
  },
  {
   "cell_type": "code",
   "execution_count": 179,
   "metadata": {
    "id": "Ab_UW6kRIAk3"
   },
   "outputs": [
    {
     "name": "stdout",
     "output_type": "stream",
     "text": [
      "The net revenue is around 6166.3 dollars\n"
     ]
    }
   ],
   "source": [
    "# get the total revenue and print it\n",
    "total_rev = df['Revenue'].sum() ## Write the appropriate function to get the total revenue\n",
    "print('The net revenue is around', round(total_rev, 2), 'dollars')"
   ]
  },
  {
   "cell_type": "markdown",
   "metadata": {
    "id": "LZy7Tky82rdT"
   },
   "source": [
    "### **Question 15:** The company wants to analyze the total time required to deliver the food. What percentage of orders take more than 60 minutes to get delivered from the time the order is placed? (The food has to be prepared and then delivered.)[2 marks]\n"
   ]
  },
  {
   "cell_type": "code",
   "execution_count": 151,
   "metadata": {
    "id": "Ati2ZEEE2rdT"
   },
   "outputs": [
    {
     "name": "stdout",
     "output_type": "stream",
     "text": [
      "Percentage of orders with more than 60 minutes delivery time: 10.54 %\n"
     ]
    }
   ],
   "source": [
    "# Calculate total delivery time and add a new column to the dataframe df to store the total delivery time\n",
    "df['total_time'] = df['food_preparation_time'] + df['delivery_time']\n",
    "\n",
    "\n",
    "## Write the code below to find the percentage of orders that have more than 60 minutes of total delivery time (see Question 9 for reference)\n",
    "df_orders_60min = df[df['total_time']>60]\n",
    "\n",
    "##df_greater_than_20 = df[df['cost_of_the_order']>20]\n",
    "\n",
    "# Calculate percentage of such orders in the dataset\n",
    "percent = (df_orders_60min.shape[0] / df.shape[0]) * 100\n",
    "\n",
    "print(\"Percentage of orders with more than 60 minutes delivery time:\", round(percent, 2), '%')\n",
    "\n",
    "\n"
   ]
  },
  {
   "cell_type": "markdown",
   "metadata": {
    "id": "SYOKcqNF2rdU"
   },
   "source": [
    "### **Question 16:** The company wants to analyze the delivery time of the orders on weekdays and weekends. How does the mean delivery time vary during weekdays and weekends? [2 marks]"
   ]
  },
  {
   "cell_type": "code",
   "execution_count": 83,
   "metadata": {
    "id": "A2eovxKR2rdU"
   },
   "outputs": [
    {
     "name": "stdout",
     "output_type": "stream",
     "text": [
      "The mean delivery time on weekdays is around 28 minutes\n",
      "The mean delivery time on weekends is around 22 minutes\n"
     ]
    }
   ],
   "source": [
    "# Get the mean delivery time on weekdays and print it\n",
    "print('The mean delivery time on weekdays is around', \n",
    "      round(df[df['day_of_the_week'] == 'Weekday']['delivery_time'].mean()),\n",
    "     'minutes')\n",
    "\n",
    "\n",
    "## Write the code below to get the mean delivery time on weekends and print it\n",
    "print('The mean delivery time on weekends is around', \n",
    "      round(df[df['day_of_the_week'] == 'Weekend']['delivery_time'].mean()),\n",
    "     'minutes')\n",
    "\n",
    "\n",
    "\n"
   ]
  },
  {
   "cell_type": "markdown",
   "metadata": {
    "id": "2nE3pq472rdU"
   },
   "source": [
    "### Conclusion and Recommendations"
   ]
  },
  {
   "cell_type": "markdown",
   "metadata": {
    "id": "DL1sNndy2rdU"
   },
   "source": [
    "### **Question 17:** What are your conclusions from the analysis? What recommendations would you like to share to help improve the business? (You can use cuisine type and feedback ratings to drive your business recommendations.) [6 marks]"
   ]
  },
  {
   "cell_type": "markdown",
   "metadata": {},
   "source": []
  }
 ],
 "metadata": {
  "colab": {
   "collapsed_sections": [
    "LUh8hTiW2rdH",
    "2Dl2aL1W2rdI",
    "4ceeYAVy2rdO",
    "lu0o5GkQ2rdR",
    "2nE3pq472rdU",
    "DL1sNndy2rdU"
   ],
   "name": "Foodhub_project(Low_Code).ipynb",
   "provenance": []
  },
  "kernelspec": {
   "display_name": "Python 3",
   "language": "python",
   "name": "python3"
  },
  "language_info": {
   "codemirror_mode": {
    "name": "ipython",
    "version": 3
   },
   "file_extension": ".py",
   "mimetype": "text/x-python",
   "name": "python",
   "nbconvert_exporter": "python",
   "pygments_lexer": "ipython3",
   "version": "3.8.8"
  }
 },
 "nbformat": 4,
 "nbformat_minor": 1
}
